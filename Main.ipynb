{
  "nbformat": 4,
  "nbformat_minor": 0,
  "metadata": {
    "colab": {
      "name": "Main.ipynb",
      "provenance": [],
      "collapsed_sections": [],
      "authorship_tag": "ABX9TyMFrfyrwaiL1MyX8eTzvnX0",
      "include_colab_link": true
    },
    "kernelspec": {
      "name": "python3",
      "display_name": "Python 3"
    },
    "language_info": {
      "name": "python"
    }
  },
  "cells": [
    {
      "cell_type": "markdown",
      "metadata": {
        "id": "view-in-github",
        "colab_type": "text"
      },
      "source": [
        "<a href=\"https://colab.research.google.com/github/songjuhye/GraduationProject-K-Means-Clustering-Using-FoodNutrientDB/blob/main/Main.ipynb\" target=\"_parent\"><img src=\"https://colab.research.google.com/assets/colab-badge.svg\" alt=\"Open In Colab\"/></a>"
      ]
    },
    {
      "cell_type": "code",
      "metadata": {
        "colab": {
          "base_uri": "https://localhost:8080/"
        },
        "id": "Si4eXVYyhc4_",
        "outputId": "e0582bbd-6457-4b5b-bc70-a486ccd5ccac"
      },
      "source": [
        "from google.colab import drive\n",
        "drive.mount('/content/drive')"
      ],
      "execution_count": null,
      "outputs": [
        {
          "output_type": "stream",
          "name": "stdout",
          "text": [
            "Drive already mounted at /content/drive; to attempt to forcibly remount, call drive.mount(\"/content/drive\", force_remount=True).\n"
          ]
        }
      ]
    },
    {
      "cell_type": "code",
      "metadata": {
        "id": "ekTkCEA_hnRf"
      },
      "source": [
        "file_csv = '/content/drive/My Drive/식공졸업논문/final/다시 clustering/데이터 다시/우유및유제품류 다시_csv.csv'"
      ],
      "execution_count": null,
      "outputs": []
    },
    {
      "cell_type": "code",
      "metadata": {
        "id": "mpJ90Bhjh968"
      },
      "source": [
        "import pandas as pd\n",
        "import numpy as np\n",
        "import matplotlib.pyplot as plt"
      ],
      "execution_count": null,
      "outputs": []
    },
    {
      "cell_type": "code",
      "metadata": {
        "colab": {
          "base_uri": "https://localhost:8080/",
          "height": 551
        },
        "id": "i2FOhP1oh_fl",
        "outputId": "ad126695-8bd4-42e3-f2d3-b903d1b20b1c"
      },
      "source": [
        "df_6N12 = pd.read_csv(file_csv)\n",
        "df_6N12"
      ],
      "execution_count": null,
      "outputs": [
        {
          "output_type": "execute_result",
          "data": {
            "text/html": [
              "<div>\n",
              "<style scoped>\n",
              "    .dataframe tbody tr th:only-of-type {\n",
              "        vertical-align: middle;\n",
              "    }\n",
              "\n",
              "    .dataframe tbody tr th {\n",
              "        vertical-align: top;\n",
              "    }\n",
              "\n",
              "    .dataframe thead th {\n",
              "        text-align: right;\n",
              "    }\n",
              "</style>\n",
              "<table border=\"1\" class=\"dataframe\">\n",
              "  <thead>\n",
              "    <tr style=\"text-align: right;\">\n",
              "      <th></th>\n",
              "      <th>색인</th>\n",
              "      <th>식품군</th>\n",
              "      <th>식품코드</th>\n",
              "      <th>식품명(국문)</th>\n",
              "      <th>식품명(영문)</th>\n",
              "      <th>비타민 B6(mg)</th>\n",
              "      <th>엽산(μg)\\n(DFE)</th>\n",
              "      <th>비타민 B12(μg)</th>\n",
              "    </tr>\n",
              "  </thead>\n",
              "  <tbody>\n",
              "    <tr>\n",
              "      <th>0</th>\n",
              "      <td>2553</td>\n",
              "      <td>우유및유제품류</td>\n",
              "      <td>M0060001389a</td>\n",
              "      <td>아이스크림, 딸기맛</td>\n",
              "      <td>Ice cream, Strawberry</td>\n",
              "      <td>0.050</td>\n",
              "      <td>12</td>\n",
              "      <td>0.30</td>\n",
              "    </tr>\n",
              "    <tr>\n",
              "      <th>1</th>\n",
              "      <td>2555</td>\n",
              "      <td>우유및유제품류</td>\n",
              "      <td>M0060001409a</td>\n",
              "      <td>아이스크림, 초콜릿맛</td>\n",
              "      <td>Ice cream, Chocolate</td>\n",
              "      <td>0.055</td>\n",
              "      <td>16</td>\n",
              "      <td>0.29</td>\n",
              "    </tr>\n",
              "    <tr>\n",
              "      <th>2</th>\n",
              "      <td>2581</td>\n",
              "      <td>우유및유제품류</td>\n",
              "      <td>M0100050009a</td>\n",
              "      <td>치즈, 카테지</td>\n",
              "      <td>Cheese, Cottage</td>\n",
              "      <td>0.030</td>\n",
              "      <td>21</td>\n",
              "      <td>1.00</td>\n",
              "    </tr>\n",
              "    <tr>\n",
              "      <th>3</th>\n",
              "      <td>2582</td>\n",
              "      <td>우유및유제품류</td>\n",
              "      <td>M0100060009a</td>\n",
              "      <td>치즈, 크림</td>\n",
              "      <td>Cheese, Cream</td>\n",
              "      <td>0.056</td>\n",
              "      <td>9</td>\n",
              "      <td>0.22</td>\n",
              "    </tr>\n",
              "    <tr>\n",
              "      <th>4</th>\n",
              "      <td>2583</td>\n",
              "      <td>우유및유제품류</td>\n",
              "      <td>M0100070009a</td>\n",
              "      <td>치즈, 파마산</td>\n",
              "      <td>Cheese, Parmesan</td>\n",
              "      <td>0.081</td>\n",
              "      <td>6</td>\n",
              "      <td>1.40</td>\n",
              "    </tr>\n",
              "    <tr>\n",
              "      <th>5</th>\n",
              "      <td>2584</td>\n",
              "      <td>우유및유제품류</td>\n",
              "      <td>M0100080009a</td>\n",
              "      <td>치즈, 블루</td>\n",
              "      <td>Cheese, Blue</td>\n",
              "      <td>0.166</td>\n",
              "      <td>36</td>\n",
              "      <td>1.22</td>\n",
              "    </tr>\n",
              "    <tr>\n",
              "      <th>6</th>\n",
              "      <td>2585</td>\n",
              "      <td>우유및유제품류</td>\n",
              "      <td>M0100090009a</td>\n",
              "      <td>치즈, 브리</td>\n",
              "      <td>Cheese, Brie</td>\n",
              "      <td>0.235</td>\n",
              "      <td>65</td>\n",
              "      <td>1.65</td>\n",
              "    </tr>\n",
              "    <tr>\n",
              "      <th>7</th>\n",
              "      <td>2586</td>\n",
              "      <td>우유및유제품류</td>\n",
              "      <td>M0100100009a</td>\n",
              "      <td>치즈, 까망베르</td>\n",
              "      <td>Cheese, Camembert</td>\n",
              "      <td>0.227</td>\n",
              "      <td>62</td>\n",
              "      <td>1.30</td>\n",
              "    </tr>\n",
              "    <tr>\n",
              "      <th>8</th>\n",
              "      <td>2587</td>\n",
              "      <td>우유및유제품류</td>\n",
              "      <td>M0100110009a</td>\n",
              "      <td>치즈, 고다</td>\n",
              "      <td>Cheese, Gouda</td>\n",
              "      <td>0.080</td>\n",
              "      <td>21</td>\n",
              "      <td>1.54</td>\n",
              "    </tr>\n",
              "    <tr>\n",
              "      <th>9</th>\n",
              "      <td>2588</td>\n",
              "      <td>우유및유제품류</td>\n",
              "      <td>M0100120009a</td>\n",
              "      <td>치즈, 브릭</td>\n",
              "      <td>Cheese, Brick</td>\n",
              "      <td>0.065</td>\n",
              "      <td>20</td>\n",
              "      <td>1.26</td>\n",
              "    </tr>\n",
              "    <tr>\n",
              "      <th>10</th>\n",
              "      <td>2589</td>\n",
              "      <td>우유및유제품류</td>\n",
              "      <td>M0100130009a</td>\n",
              "      <td>치즈, 리코타</td>\n",
              "      <td>Cheese, Ricotta</td>\n",
              "      <td>0.060</td>\n",
              "      <td>4</td>\n",
              "      <td>0.20</td>\n",
              "    </tr>\n",
              "    <tr>\n",
              "      <th>11</th>\n",
              "      <td>2591</td>\n",
              "      <td>우유및유제품류</td>\n",
              "      <td>M0120021489a</td>\n",
              "      <td>커피크리머, 액상, 식물성지방</td>\n",
              "      <td>Coffee creamer, Liquid, Vegetable fat</td>\n",
              "      <td>0.000</td>\n",
              "      <td>2</td>\n",
              "      <td>0.00</td>\n",
              "    </tr>\n",
              "    <tr>\n",
              "      <th>12</th>\n",
              "      <td>2592</td>\n",
              "      <td>우유및유제품류</td>\n",
              "      <td>M0120021499a</td>\n",
              "      <td>커피크리머, 액상, 유지방</td>\n",
              "      <td>Coffee creamer, Liquid, Milk fat</td>\n",
              "      <td>0.010</td>\n",
              "      <td>2</td>\n",
              "      <td>0.10</td>\n",
              "    </tr>\n",
              "    <tr>\n",
              "      <th>13</th>\n",
              "      <td>2598</td>\n",
              "      <td>우유및유제품류</td>\n",
              "      <td>M0130050009a</td>\n",
              "      <td>크림, 휘핑, 동물성</td>\n",
              "      <td>Cream, Whipping, Milk fat</td>\n",
              "      <td>0.049</td>\n",
              "      <td>3</td>\n",
              "      <td>0.10</td>\n",
              "    </tr>\n",
              "    <tr>\n",
              "      <th>14</th>\n",
              "      <td>3194</td>\n",
              "      <td>우유및유제품류</td>\n",
              "      <td>M0130060009a</td>\n",
              "      <td>크림, 휘핑, 식물성</td>\n",
              "      <td>Cream, Whipping, Vegetable fat</td>\n",
              "      <td>0.051</td>\n",
              "      <td>8</td>\n",
              "      <td>0.00</td>\n",
              "    </tr>\n",
              "    <tr>\n",
              "      <th>15</th>\n",
              "      <td>3193</td>\n",
              "      <td>우유및유제품류</td>\n",
              "      <td>M0130070009a</td>\n",
              "      <td>크림, 생크림</td>\n",
              "      <td>Cream, Heavy cream</td>\n",
              "      <td>0.053</td>\n",
              "      <td>7</td>\n",
              "      <td>0.10</td>\n",
              "    </tr>\n",
              "  </tbody>\n",
              "</table>\n",
              "</div>"
            ],
            "text/plain": [
              "      색인      식품군          식품코드  ... 비타민 B6(mg) 엽산(μg)\\n(DFE)  비타민 B12(μg)\n",
              "0   2553  우유및유제품류  M0060001389a  ...      0.050            12         0.30\n",
              "1   2555  우유및유제품류  M0060001409a  ...      0.055            16         0.29\n",
              "2   2581  우유및유제품류  M0100050009a  ...      0.030            21         1.00\n",
              "3   2582  우유및유제품류  M0100060009a  ...      0.056             9         0.22\n",
              "4   2583  우유및유제품류  M0100070009a  ...      0.081             6         1.40\n",
              "5   2584  우유및유제품류  M0100080009a  ...      0.166            36         1.22\n",
              "6   2585  우유및유제품류  M0100090009a  ...      0.235            65         1.65\n",
              "7   2586  우유및유제품류  M0100100009a  ...      0.227            62         1.30\n",
              "8   2587  우유및유제품류  M0100110009a  ...      0.080            21         1.54\n",
              "9   2588  우유및유제품류  M0100120009a  ...      0.065            20         1.26\n",
              "10  2589  우유및유제품류  M0100130009a  ...      0.060             4         0.20\n",
              "11  2591  우유및유제품류  M0120021489a  ...      0.000             2         0.00\n",
              "12  2592  우유및유제품류  M0120021499a  ...      0.010             2         0.10\n",
              "13  2598  우유및유제품류  M0130050009a  ...      0.049             3         0.10\n",
              "14  3194  우유및유제품류  M0130060009a  ...      0.051             8         0.00\n",
              "15  3193  우유및유제품류  M0130070009a  ...      0.053             7         0.10\n",
              "\n",
              "[16 rows x 8 columns]"
            ]
          },
          "metadata": {},
          "execution_count": 26
        }
      ]
    },
    {
      "cell_type": "code",
      "metadata": {
        "colab": {
          "base_uri": "https://localhost:8080/",
          "height": 499
        },
        "id": "ALhVHBZ8iBbV",
        "outputId": "bf705559-11a2-451c-fa3f-93d26dbf4430"
      },
      "source": [
        "import seaborn as sns\n",
        "\n",
        "sns.kdeplot(data=df_6N12.iloc[:, 5], color=\"red\", shade=True)\n",
        "plt.show()\n"
      ],
      "execution_count": null,
      "outputs": [
        {
          "output_type": "stream",
          "name": "stderr",
          "text": [
            "/usr/local/lib/python3.7/dist-packages/matplotlib/backends/backend_agg.py:214: RuntimeWarning: Glyph 48708 missing from current font.\n",
            "  font.set_text(s, 0.0, flags=flags)\n",
            "/usr/local/lib/python3.7/dist-packages/matplotlib/backends/backend_agg.py:214: RuntimeWarning: Glyph 53440 missing from current font.\n",
            "  font.set_text(s, 0.0, flags=flags)\n",
            "/usr/local/lib/python3.7/dist-packages/matplotlib/backends/backend_agg.py:214: RuntimeWarning: Glyph 48124 missing from current font.\n",
            "  font.set_text(s, 0.0, flags=flags)\n",
            "/usr/local/lib/python3.7/dist-packages/matplotlib/backends/backend_agg.py:183: RuntimeWarning: Glyph 48708 missing from current font.\n",
            "  font.set_text(s, 0, flags=flags)\n",
            "/usr/local/lib/python3.7/dist-packages/matplotlib/backends/backend_agg.py:183: RuntimeWarning: Glyph 53440 missing from current font.\n",
            "  font.set_text(s, 0, flags=flags)\n",
            "/usr/local/lib/python3.7/dist-packages/matplotlib/backends/backend_agg.py:183: RuntimeWarning: Glyph 48124 missing from current font.\n",
            "  font.set_text(s, 0, flags=flags)\n"
          ]
        },
        {
          "output_type": "display_data",
          "data": {
            "image/png": "[encoded data removed]",
            "text/plain": [
              "<Figure size 432x288 with 1 Axes>"
            ]
          },
          "metadata": {
            "needs_background": "light"
          }
        }
      ]
    },
    {
      "cell_type": "code",
      "metadata": {
        "colab": {
          "base_uri": "https://localhost:8080/",
          "height": 439
        },
        "id": "Ft47yqLEiDvT",
        "outputId": "08ce3079-a7f3-47dd-e789-4bcff6b3e867"
      },
      "source": [
        "sns.kdeplot(data=df_6N12.iloc[:, 6], color=\"blue\", shade=True)\n",
        "plt.show()"
      ],
      "execution_count": null,
      "outputs": [
        {
          "output_type": "stream",
          "name": "stderr",
          "text": [
            "/usr/local/lib/python3.7/dist-packages/matplotlib/backends/backend_agg.py:214: RuntimeWarning: Glyph 50685 missing from current font.\n",
            "  font.set_text(s, 0.0, flags=flags)\n",
            "/usr/local/lib/python3.7/dist-packages/matplotlib/backends/backend_agg.py:214: RuntimeWarning: Glyph 49328 missing from current font.\n",
            "  font.set_text(s, 0.0, flags=flags)\n",
            "/usr/local/lib/python3.7/dist-packages/matplotlib/backends/backend_agg.py:183: RuntimeWarning: Glyph 50685 missing from current font.\n",
            "  font.set_text(s, 0, flags=flags)\n",
            "/usr/local/lib/python3.7/dist-packages/matplotlib/backends/backend_agg.py:183: RuntimeWarning: Glyph 49328 missing from current font.\n",
            "  font.set_text(s, 0, flags=flags)\n"
          ]
        },
        {
          "output_type": "display_data",
          "data": {
            "image/png": "[encoded data removed]",
            "text/plain": [
              "<Figure size 432x288 with 1 Axes>"
            ]
          },
          "metadata": {
            "needs_background": "light"
          }
        }
      ]
    },
    {
      "cell_type": "code",
      "metadata": {
        "colab": {
          "base_uri": "https://localhost:8080/",
          "height": 499
        },
        "id": "RvNho8bqiF26",
        "outputId": "0da89596-a694-4bc3-eae6-7a0c43c21981"
      },
      "source": [
        "sns.kdeplot(data=df_6N12.iloc[:, 7], color=\"green\", shade=True)\n",
        "plt.show()"
      ],
      "execution_count": null,
      "outputs": [
        {
          "output_type": "stream",
          "name": "stderr",
          "text": [
            "/usr/local/lib/python3.7/dist-packages/matplotlib/backends/backend_agg.py:214: RuntimeWarning: Glyph 48708 missing from current font.\n",
            "  font.set_text(s, 0.0, flags=flags)\n",
            "/usr/local/lib/python3.7/dist-packages/matplotlib/backends/backend_agg.py:214: RuntimeWarning: Glyph 53440 missing from current font.\n",
            "  font.set_text(s, 0.0, flags=flags)\n",
            "/usr/local/lib/python3.7/dist-packages/matplotlib/backends/backend_agg.py:214: RuntimeWarning: Glyph 48124 missing from current font.\n",
            "  font.set_text(s, 0.0, flags=flags)\n",
            "/usr/local/lib/python3.7/dist-packages/matplotlib/backends/backend_agg.py:183: RuntimeWarning: Glyph 48708 missing from current font.\n",
            "  font.set_text(s, 0, flags=flags)\n",
            "/usr/local/lib/python3.7/dist-packages/matplotlib/backends/backend_agg.py:183: RuntimeWarning: Glyph 53440 missing from current font.\n",
            "  font.set_text(s, 0, flags=flags)\n",
            "/usr/local/lib/python3.7/dist-packages/matplotlib/backends/backend_agg.py:183: RuntimeWarning: Glyph 48124 missing from current font.\n",
            "  font.set_text(s, 0, flags=flags)\n"
          ]
        },
        {
          "output_type": "display_data",
          "data": {
            "image/png": "[encoded data removed]",
            "text/plain": [
              "<Figure size 432x288 with 1 Axes>"
            ]
          },
          "metadata": {
            "needs_background": "light"
          }
        }
      ]
    },
    {
      "cell_type": "code",
      "metadata": {
        "colab": {
          "base_uri": "https://localhost:8080/"
        },
        "id": "A4xWvDm0iH9V",
        "outputId": "bc4a6a5f-81e7-43a6-efe1-ce8638ec27e4"
      },
      "source": [
        "NA = df_6N12.iloc[:, 5]\n",
        "vitB6 = df_6N12.iloc[:, 6]\n",
        "vitB12 = df_6N12.iloc[:, 7]\n",
        "\n",
        "df_var3 = pd.DataFrame({ '비타민6' : vitB6,\n",
        "                          '나트륨' : NA,\n",
        "                          '비타민12' : vitB12 })\n",
        "\n",
        "from sklearn.preprocessing import StandardScaler\n",
        "\n",
        "std_scaler = StandardScaler()\n",
        "output = std_scaler.fit_transform(df_var3)\n",
        "\n",
        "print(\"StandardScaler 적용(표준화)\\n\")\n",
        "print('\\n스케일 조정 전 features Min value : \\n {}'.format(df_var3.min(axis=0)))\n",
        "print('\\n스케일 조정 전 features Max value : \\n {}'.format(df_var3.max(axis=0)))\n",
        "print('\\n스케일 조정 후 features Min value : \\n {}'.format(output.min(axis=0)))\n",
        "print('\\n스케일 조정 후 features Max value : \\n {}'.format(output.max(axis=0)))"
      ],
      "execution_count": null,
      "outputs": [
        {
          "output_type": "stream",
          "name": "stdout",
          "text": [
            "StandardScaler 적용(표준화)\n",
            "\n",
            "\n",
            "스케일 조정 전 features Min value : \n",
            " 비타민6     2.0\n",
            "나트륨      0.0\n",
            "비타민12    0.0\n",
            "dtype: float64\n",
            "\n",
            "스케일 조정 전 features Max value : \n",
            " 비타민6     65.000\n",
            "나트륨       0.235\n",
            "비타민12     1.650\n",
            "dtype: float64\n",
            "\n",
            "스케일 조정 후 features Min value : \n",
            " [-0.85217786 -1.18074166 -1.09150657]\n",
            "\n",
            "스케일 조정 후 features Max value : \n",
            " [2.42643008 2.32051121 1.60659956]\n"
          ]
        }
      ]
    },
    {
      "cell_type": "code",
      "metadata": {
        "colab": {
          "base_uri": "https://localhost:8080/",
          "height": 551
        },
        "id": "VwQ4TvdFiQdO",
        "outputId": "ed86e557-ac91-4bb1-a796-f74888f4f4a2"
      },
      "source": [
        "robust_df_6N12 = pd.DataFrame({'vitB6' : output[:, 0],\n",
        "                          'NA' : output[:, 1],\n",
        "                          'vitB12' : output[:, 2] })\n",
        "robust_df_6N12"
      ],
      "execution_count": null,
      "outputs": [
        {
          "output_type": "execute_result",
          "data": {
            "text/html": [
              "<div>\n",
              "<style scoped>\n",
              "    .dataframe tbody tr th:only-of-type {\n",
              "        vertical-align: middle;\n",
              "    }\n",
              "\n",
              "    .dataframe tbody tr th {\n",
              "        vertical-align: top;\n",
              "    }\n",
              "\n",
              "    .dataframe thead th {\n",
              "        text-align: right;\n",
              "    }\n",
              "</style>\n",
              "<table border=\"1\" class=\"dataframe\">\n",
              "  <thead>\n",
              "    <tr style=\"text-align: right;\">\n",
              "      <th></th>\n",
              "      <th>vitB6</th>\n",
              "      <th>NA</th>\n",
              "      <th>vitB12</th>\n",
              "    </tr>\n",
              "  </thead>\n",
              "  <tbody>\n",
              "    <tr>\n",
              "      <th>0</th>\n",
              "      <td>-0.331764</td>\n",
              "      <td>-0.435794</td>\n",
              "      <td>-0.600942</td>\n",
              "    </tr>\n",
              "    <tr>\n",
              "      <th>1</th>\n",
              "      <td>-0.123598</td>\n",
              "      <td>-0.361299</td>\n",
              "      <td>-0.617294</td>\n",
              "    </tr>\n",
              "    <tr>\n",
              "      <th>2</th>\n",
              "      <td>0.136609</td>\n",
              "      <td>-0.733773</td>\n",
              "      <td>0.543709</td>\n",
              "    </tr>\n",
              "    <tr>\n",
              "      <th>3</th>\n",
              "      <td>-0.487888</td>\n",
              "      <td>-0.346401</td>\n",
              "      <td>-0.731759</td>\n",
              "    </tr>\n",
              "    <tr>\n",
              "      <th>4</th>\n",
              "      <td>-0.644012</td>\n",
              "      <td>0.026073</td>\n",
              "      <td>1.197796</td>\n",
              "    </tr>\n",
              "    <tr>\n",
              "      <th>5</th>\n",
              "      <td>0.917230</td>\n",
              "      <td>1.292484</td>\n",
              "      <td>0.903457</td>\n",
              "    </tr>\n",
              "    <tr>\n",
              "      <th>6</th>\n",
              "      <td>2.426430</td>\n",
              "      <td>2.320511</td>\n",
              "      <td>1.606600</td>\n",
              "    </tr>\n",
              "    <tr>\n",
              "      <th>7</th>\n",
              "      <td>2.270306</td>\n",
              "      <td>2.201320</td>\n",
              "      <td>1.034274</td>\n",
              "    </tr>\n",
              "    <tr>\n",
              "      <th>8</th>\n",
              "      <td>0.136609</td>\n",
              "      <td>0.011174</td>\n",
              "      <td>1.426726</td>\n",
              "    </tr>\n",
              "    <tr>\n",
              "      <th>9</th>\n",
              "      <td>0.084567</td>\n",
              "      <td>-0.212310</td>\n",
              "      <td>0.968865</td>\n",
              "    </tr>\n",
              "    <tr>\n",
              "      <th>10</th>\n",
              "      <td>-0.748095</td>\n",
              "      <td>-0.286805</td>\n",
              "      <td>-0.764463</td>\n",
              "    </tr>\n",
              "    <tr>\n",
              "      <th>11</th>\n",
              "      <td>-0.852178</td>\n",
              "      <td>-1.180742</td>\n",
              "      <td>-1.091507</td>\n",
              "    </tr>\n",
              "    <tr>\n",
              "      <th>12</th>\n",
              "      <td>-0.852178</td>\n",
              "      <td>-1.031752</td>\n",
              "      <td>-0.927985</td>\n",
              "    </tr>\n",
              "    <tr>\n",
              "      <th>13</th>\n",
              "      <td>-0.800136</td>\n",
              "      <td>-0.450693</td>\n",
              "      <td>-0.927985</td>\n",
              "    </tr>\n",
              "    <tr>\n",
              "      <th>14</th>\n",
              "      <td>-0.539929</td>\n",
              "      <td>-0.420895</td>\n",
              "      <td>-1.091507</td>\n",
              "    </tr>\n",
              "    <tr>\n",
              "      <th>15</th>\n",
              "      <td>-0.591971</td>\n",
              "      <td>-0.391097</td>\n",
              "      <td>-0.927985</td>\n",
              "    </tr>\n",
              "  </tbody>\n",
              "</table>\n",
              "</div>"
            ],
            "text/plain": [
              "       vitB6        NA    vitB12\n",
              "0  -0.331764 -0.435794 -0.600942\n",
              "1  -0.123598 -0.361299 -0.617294\n",
              "2   0.136609 -0.733773  0.543709\n",
              "3  -0.487888 -0.346401 -0.731759\n",
              "4  -0.644012  0.026073  1.197796\n",
              "5   0.917230  1.292484  0.903457\n",
              "6   2.426430  2.320511  1.606600\n",
              "7   2.270306  2.201320  1.034274\n",
              "8   0.136609  0.011174  1.426726\n",
              "9   0.084567 -0.212310  0.968865\n",
              "10 -0.748095 -0.286805 -0.764463\n",
              "11 -0.852178 -1.180742 -1.091507\n",
              "12 -0.852178 -1.031752 -0.927985\n",
              "13 -0.800136 -0.450693 -0.927985\n",
              "14 -0.539929 -0.420895 -1.091507\n",
              "15 -0.591971 -0.391097 -0.927985"
            ]
          },
          "metadata": {},
          "execution_count": 31
        }
      ]
    },
    {
      "cell_type": "code",
      "metadata": {
        "colab": {
          "base_uri": "https://localhost:8080/"
        },
        "id": "ao5e-YSTiSfd",
        "outputId": "cf563eda-4bba-49ef-9257-4c68a52af773"
      },
      "source": [
        "data_3d = [robust_df_6N12['vitB6'], robust_df_6N12['NA'], robust_df_6N12['vitB12']]\n",
        "data_3d = np.array(data_3d)\n",
        "print(data_3d.shape)\n",
        "data_3d = np.transpose(data_3d)\n",
        "print(data_3d.shape)\n",
        "data_3d"
      ],
      "execution_count": null,
      "outputs": [
        {
          "output_type": "stream",
          "name": "stdout",
          "text": [
            "(3, 16)\n",
            "(16, 3)\n"
          ]
        },
        {
          "output_type": "execute_result",
          "data": {
            "text/plain": [
              "array([[-0.3317639 , -0.43579424, -0.60094182],\n",
              "       [-0.12359832, -0.3612995 , -0.61729398],\n",
              "       [ 0.13660866, -0.73377321,  0.54370927],\n",
              "       [-0.48788809, -0.34640055, -0.73175909],\n",
              "       [-0.64401227,  0.02607316,  1.1977956 ],\n",
              "       [ 0.9172296 ,  1.29248377,  0.90345675],\n",
              "       [ 2.42643008,  2.32051121,  1.60659956],\n",
              "       [ 2.2703059 ,  2.20131962,  1.03427402],\n",
              "       [ 0.13660866,  0.01117421,  1.42672582],\n",
              "       [ 0.08456727, -0.21231001,  0.96886539],\n",
              "       [-0.74809507, -0.28680476, -0.76446341],\n",
              "       [-0.85217786, -1.18074166, -1.09150657],\n",
              "       [-0.85217786, -1.03175217, -0.92798499],\n",
              "       [-0.80013646, -0.45069319, -0.92798499],\n",
              "       [-0.53992948, -0.42089529, -1.09150657],\n",
              "       [-0.59197088, -0.39109739, -0.92798499]])"
            ]
          },
          "metadata": {},
          "execution_count": 32
        }
      ]
    },
    {
      "cell_type": "code",
      "metadata": {
        "colab": {
          "base_uri": "https://localhost:8080/",
          "height": 340
        },
        "id": "U_AjgVBIiXnM",
        "outputId": "ace57a14-aaaa-4de8-8db9-d46094a505ed"
      },
      "source": [
        "# robust scaling 거친 데이터 이용한 클러스터링\n",
        "# x = 비타민 B6, y = 나트륨, z = 엽산\n",
        "\n",
        "from sklearn.cluster import KMeans\n",
        "\n",
        "kmeans = KMeans(n_clusters=5, init='k-means++', max_iter=300, n_init=10, random_state=0)\n",
        "pred_y = kmeans.fit_predict(data_3d) #수정 필요. 공부도...\n",
        "print(kmeans.cluster_centers_)\n",
        "colormap = np.array(['c', 'g', 'b', 'm', 'y'])\n",
        "\n",
        "plot1 = plt.figure(1)\n",
        "graph1 = plot1.add_subplot(111, projection='3d')\n",
        "graph1.scatter(robust_df_6N12['vitB6'], robust_df_6N12['NA'], robust_df_6N12['vitB12'], c=colormap[pred_y])\n",
        "graph1.scatter(kmeans.cluster_centers_[:,0], kmeans.cluster_centers_[:,1], kmeans.cluster_centers_[:,2], marker='*', s=50, c='red')\n",
        "plt.show()"
      ],
      "execution_count": null,
      "outputs": [
        {
          "output_type": "stream",
          "name": "stdout",
          "text": [
            "[[-0.85217786 -1.10624692 -1.00974578]\n",
            " [ 2.34836799  2.26091541  1.32043679]\n",
            " [-0.07155692 -0.22720896  1.03427402]\n",
            " [-0.51762603 -0.38471213 -0.80884784]\n",
            " [ 0.9172296   1.29248377  0.90345675]]\n"
          ]
        },
        {
          "output_type": "display_data",
          "data": {
            "image/png": "[encoded data removed]",
            "text/plain": [
              "<Figure size 432x288 with 1 Axes>"
            ]
          },
          "metadata": {
            "needs_background": "light"
          }
        }
      ]
    }
  ]
}